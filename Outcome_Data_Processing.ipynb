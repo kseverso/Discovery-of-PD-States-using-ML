{
 "cells": [
  {
   "cell_type": "code",
   "execution_count": null,
   "metadata": {},
   "outputs": [],
   "source": [
    "import pandas as pd\n",
    "import numpy as np"
   ]
  },
  {
   "cell_type": "code",
   "execution_count": null,
   "metadata": {},
   "outputs": [],
   "source": [
    "path = ### PATH TO DATA HERE ###"
   ]
  },
  {
   "cell_type": "code",
   "execution_count": null,
   "metadata": {},
   "outputs": [],
   "source": [
    "cog_cat = pd.read_csv(path + 'Cognitive_Categorization.csv')\n",
    "dod = pd.read_csv(path + 'Conclusion_of_Study_Participation.csv')\n",
    "dod2 = pd.read_csv(path + 'FOUND_Enrollment_Status.csv')"
   ]
  },
  {
   "cell_type": "code",
   "execution_count": null,
   "metadata": {},
   "outputs": [],
   "source": [
    "pd_on = pd.read_csv('pd_on.csv')"
   ]
  },
  {
   "cell_type": "code",
   "execution_count": null,
   "metadata": {},
   "outputs": [],
   "source": [
    "outcome_df = pd_on[['PATNO', 'EVENT_ID', 'INFODT']]"
   ]
  },
  {
   "cell_type": "code",
   "execution_count": null,
   "metadata": {},
   "outputs": [],
   "source": [
    "outcome_df['Dyskinesia'] = (pd_on['NP4WDYSK'] > 2) & (pd_on['NP4DYSKI'] > 2)\n",
    "outcome_df['MotorFluctuation'] = (pd_on['NP4OFF'] > 2)\n",
    "outcome_df['MotorImpairment'] = (pd_on['NP4FLCTI'] > 2)\n",
    "outcome_df['HY'] = (pd_on['NHY'] > 3)"
   ]
  },
  {
   "cell_type": "code",
   "execution_count": null,
   "metadata": {},
   "outputs": [],
   "source": [
    "cog_df = pd_on[['PATNO', 'EVENT_ID', 'INFODT']].merge(cog_cat, how='left', on=['PATNO', 'EVENT_ID', 'INFODT'])"
   ]
  },
  {
   "cell_type": "code",
   "execution_count": null,
   "metadata": {},
   "outputs": [],
   "source": [
    "dementia_store = pd.DataFrame(columns=['PATNO', 'EVENT_ID', 'INFODT'])\n",
    "\n",
    "pids = cog_df[cog_df.COGSTATE==3.0].PATNO.unique()\n",
    "for pid in pids:\n",
    "    rec = cog_df[cog_df.PATNO==pid]\n",
    "    if (rec.COGSTATE==3.0).sum() > 1:\n",
    "        dt = pd.to_datetime(rec[rec.COGSTATE == 3].INFODT).values\n",
    "        time_delta = (dt - dt[0])/pd.Timedelta(1,'D')/365\n",
    "        idx = rec[rec.COGSTATE == 3].INFODT.index\n",
    "        if (time_delta < 0).any():\n",
    "            print('Flipped')\n",
    "            time_delta = time_delta + abs(np.min(time_delta))\n",
    "        if (time_delta > 0.9).any():\n",
    "            dementia_store = dementia_store.append(cog_df.iloc[idx.values[time_delta > 0.9]][['PATNO', 'EVENT_ID', 'INFODT']], ignore_index=True)"
   ]
  },
  {
   "cell_type": "code",
   "execution_count": null,
   "metadata": {},
   "outputs": [],
   "source": [
    "dementia_store['Dementia'] = True"
   ]
  },
  {
   "cell_type": "code",
   "execution_count": null,
   "metadata": {},
   "outputs": [],
   "source": [
    "mci_store = pd.DataFrame(columns=['PATNO', 'EVENT_ID', 'INFODT'])\n",
    "\n",
    "pids = cog_df[cog_df.COGSTATE==2.0].PATNO.unique()\n",
    "for pid in pids:\n",
    "    rec = cog_df[cog_df.PATNO==pid]\n",
    "    if (rec.COGSTATE==2.0).sum() > 1:\n",
    "        dt = pd.to_datetime(rec[rec.COGSTATE == 2.0].INFODT).values\n",
    "        time_delta = (dt - dt[0])/pd.Timedelta(1,'D')/365\n",
    "        idx = rec[rec.COGSTATE == 2.0].INFODT.index\n",
    "        if (time_delta < 0).any():\n",
    "            print('Flipped')\n",
    "            time_delta = time_delta + abs(np.min(time_delta))\n",
    "        if (time_delta > 0.9).any():\n",
    "            mci_store = mci_store.append(cog_df.iloc[idx.values[time_delta > 0.9]][['PATNO', 'EVENT_ID', 'INFODT']], ignore_index=True)"
   ]
  },
  {
   "cell_type": "code",
   "execution_count": null,
   "metadata": {},
   "outputs": [],
   "source": [
    "mci_store['MCI'] = True"
   ]
  },
  {
   "cell_type": "code",
   "execution_count": null,
   "metadata": {},
   "outputs": [],
   "source": [
    "outcome_df = outcome_df.merge(dementia_store, how='left', on=['PATNO', 'EVENT_ID', 'INFODT'])\n",
    "outcome_df = outcome_df.merge(mci_store, how='left', on=['PATNO', 'EVENT_ID', 'INFODT'])"
   ]
  },
  {
   "cell_type": "code",
   "execution_count": null,
   "metadata": {},
   "outputs": [],
   "source": [
    "outcome_df.loc[outcome_df.Dementia.isnull(), 'Dementia'] = False\n",
    "outcome_df.loc[outcome_df.MCI.isnull(), 'MCI'] = False"
   ]
  },
  {
   "cell_type": "code",
   "execution_count": null,
   "metadata": {},
   "outputs": [],
   "source": [
    "dod_store = dod[(dod.WDRSN==6) & (dod.PATNO.isin(pd_on.PATNO.unique()))][['PATNO', 'INFODT']]"
   ]
  },
  {
   "cell_type": "code",
   "execution_count": null,
   "metadata": {},
   "outputs": [],
   "source": [
    "for pid in dod2[(dod2.FOSTATUS==9) & (dod2.PATNO.isin(pd_on.PATNO.unique()))].PATNO:\n",
    "    if ~dod_store.PATNO.isin([pid]).any():\n",
    "        dod_store = dod_store.append(pd.DataFrame({'PATNO': pid, 'INFODT': 'NaN'}, index=[0]), ignore_index=True)"
   ]
  },
  {
   "cell_type": "code",
   "execution_count": null,
   "metadata": {},
   "outputs": [],
   "source": [
    "outcome_df['Death'] = False"
   ]
  },
  {
   "cell_type": "code",
   "execution_count": null,
   "metadata": {},
   "outputs": [],
   "source": [
    "for pid in dod_store.PATNO:\n",
    "    last_idx = np.argsort(pd.to_datetime(outcome_df[outcome_df.PATNO==pid].INFODT)).index[-1]\n",
    "    outcome_df.at[last_idx, 'Death'] = True"
   ]
  },
  {
   "cell_type": "code",
   "execution_count": null,
   "metadata": {},
   "outputs": [],
   "source": [
    "outcome_df.to_csv('Outcome.csv')"
   ]
  }
 ],
 "metadata": {
  "kernelspec": {
   "display_name": "Python 3",
   "language": "python",
   "name": "python3"
  },
  "language_info": {
   "codemirror_mode": {
    "name": "ipython",
    "version": 3
   },
   "file_extension": ".py",
   "mimetype": "text/x-python",
   "name": "python",
   "nbconvert_exporter": "python",
   "pygments_lexer": "ipython3",
   "version": "3.6.4"
  }
 },
 "nbformat": 4,
 "nbformat_minor": 2
}
