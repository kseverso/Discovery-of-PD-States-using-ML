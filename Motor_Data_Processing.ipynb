{
 "cells": [
  {
   "cell_type": "code",
   "execution_count": null,
   "metadata": {},
   "outputs": [],
   "source": [
    "import pandas as pd"
   ]
  },
  {
   "cell_type": "markdown",
   "metadata": {},
   "source": [
    "### MDS-UPDRS and Modified Schwab and England ADL"
   ]
  },
  {
   "cell_type": "code",
   "execution_count": null,
   "metadata": {},
   "outputs": [],
   "source": [
    "path = ### PUT PATH TO DATA HERE ###"
   ]
  },
  {
   "cell_type": "code",
   "execution_count": null,
   "metadata": {},
   "outputs": [],
   "source": [
    "mds1a = pd.read_csv(path + 'MDS_UPDRS_Part_I.csv')\n",
    "mds1b = pd.read_csv(path + 'MDS_UPDRS_Part_I__Patient_Questionnaire.csv')\n",
    "mds2 = pd.read_csv(path + 'MDS_UPDRS_Part_II__Patient_Questionnaire.csv')\n",
    "mds3 = pd.read_csv(path + 'MDS_UPDRS_Part_III.csv')\n",
    "mds4 = pd.read_csv(path + 'MDS_UPDRS_Part_IV.csv')\n",
    "mse = pd.read_csv(path + 'Modified_Schwab_+_England_ADL.csv')"
   ]
  },
  {
   "cell_type": "markdown",
   "metadata": {},
   "source": [
    "There are several files that contribute to the overall motor assesment score. The score is the 'Unified Parkinson's Disease Rating Scale' (https://www.movementdisorders.org/MDS-Files1/PDFs/Rating-Scales/MDS-UPDRS_English_FINAL.pdf). All the questions are supposed to reference the patient's experience over the past week."
   ]
  },
  {
   "cell_type": "code",
   "execution_count": null,
   "metadata": {},
   "outputs": [],
   "source": [
    "mds1a = mds1a.drop(columns=['REC_ID', 'F_STATUS', 'PAG_NAME', 'NUPSOURC', 'ORIG_ENTRY', 'LAST_UPDATE', 'QUERY', 'SITE_APRV'])\n",
    "mds1b = mds1b.drop(columns=['REC_ID', 'F_STATUS', 'PAG_NAME', 'NUPSOURC', 'ORIG_ENTRY', 'LAST_UPDATE', 'QUERY', 'SITE_APRV'])"
   ]
  },
  {
   "cell_type": "code",
   "execution_count": null,
   "metadata": {},
   "outputs": [],
   "source": [
    "mds2 = mds2.drop(columns=['REC_ID', 'F_STATUS', 'PAG_NAME', 'NUPSOURC', 'ORIG_ENTRY', 'LAST_UPDATE', 'QUERY', 'SITE_APRV'])"
   ]
  },
  {
   "cell_type": "code",
   "execution_count": null,
   "metadata": {},
   "outputs": [],
   "source": [
    "# note that page name for the updrs part 3 should not be dropped because it describes whether on or off testing is performed during annual visits\n",
    "mds3 = mds3.drop(columns=['REC_ID', 'F_STATUS', 'ORIG_ENTRY', 'LAST_UPDATE', 'QUERY', 'SITE_APRV'])"
   ]
  },
  {
   "cell_type": "code",
   "execution_count": null,
   "metadata": {},
   "outputs": [],
   "source": [
    "mds4 = mds4.drop(columns=['REC_ID', 'F_STATUS', 'PAG_NAME', 'ORIG_ENTRY', 'LAST_UPDATE', 'QUERY', 'SITE_APRV'])"
   ]
  },
  {
   "cell_type": "code",
   "execution_count": null,
   "metadata": {},
   "outputs": [],
   "source": [
    "mse = mse.drop(columns=['REC_ID', 'F_STATUS', 'PAG_NAME', 'ORIG_ENTRY', 'LAST_UPDATE', 'QUERY', 'SITE_APRV'])"
   ]
  },
  {
   "cell_type": "code",
   "execution_count": null,
   "metadata": {},
   "outputs": [],
   "source": [
    "UPDRS = mds1a.merge(mds1b, how='outer', on=['PATNO','EVENT_ID','INFODT'])\n",
    "UPDRS = UPDRS.merge(mds2, how='outer', on=['PATNO', 'EVENT_ID', 'INFODT'])\n",
    "UPDRS = UPDRS.merge(mds3, how='outer', on=['PATNO', 'EVENT_ID', 'INFODT'])\n",
    "UPDRS = UPDRS.merge(mds4, how='outer', on=['PATNO', 'EVENT_ID', 'INFODT'])\n",
    "UPDRS = UPDRS.merge(mse, how='outer', on=['PATNO', 'EVENT_ID', 'INFODT'])"
   ]
  },
  {
   "cell_type": "code",
   "execution_count": null,
   "metadata": {},
   "outputs": [],
   "source": [
    "# save processed file\n",
    "UPDRS.to_csv('motor.csv')"
   ]
  },
  {
   "cell_type": "code",
   "execution_count": null,
   "metadata": {},
   "outputs": [],
   "source": []
  }
 ],
 "metadata": {
  "kernelspec": {
   "display_name": "Python 3",
   "language": "python",
   "name": "python3"
  },
  "language_info": {
   "codemirror_mode": {
    "name": "ipython",
    "version": 3
   },
   "file_extension": ".py",
   "mimetype": "text/x-python",
   "name": "python",
   "nbconvert_exporter": "python",
   "pygments_lexer": "ipython3",
   "version": "3.6.4"
  }
 },
 "nbformat": 4,
 "nbformat_minor": 2
}
