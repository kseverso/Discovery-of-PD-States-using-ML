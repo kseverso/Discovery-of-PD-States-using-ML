{
 "cells": [
  {
   "cell_type": "code",
   "execution_count": null,
   "metadata": {},
   "outputs": [],
   "source": [
    "import pandas as pd\n",
    "import matplotlib.pyplot as plt\n",
    "import seaborn as sb\n",
    "import numpy as np\n",
    "import pickle\n",
    "from sklearn.model_selection import train_test_split\n",
    "%matplotlib inline"
   ]
  },
  {
   "cell_type": "code",
   "execution_count": null,
   "metadata": {
    "scrolled": true
   },
   "outputs": [],
   "source": [
    "def create_stratifying_varaible(a, nbins=15):\n",
    "    bins = np.linspace(0, 423, nbins)\n",
    "    discretized_motor = np.digitize(a.MOTOR_TOT, bins)\n",
    "\n",
    "    # create stratification variable by appending discretized motor with already discreted domside and gender\n",
    "    a.Gender[a.Gender==0.0] = 1. # for the purpose of stratification ignore differences between 0 and 1\n",
    "    a.DOMSIDE[a.DOMSIDE==3.0] = 1. # for the purpose of stratification ignore differences between 3 and 1 in DOMSIDE\n",
    "    strat_variable = 100 * discretized_motor + 10 * a.DOMSIDE + a.Gender\n",
    "    return strat_variable\n",
    "\n",
    "def gen_Stratified_split(a, strat_variable):\n",
    "    # stratify on the basis of discretized motor\n",
    "    train_ids, test_ids, _, _ = train_test_split(a.index, strat_variable, test_size=0.2, stratify=strat_variable)\n",
    "    #\n",
    "    a_train = pd.DataFrame(data={'PATNO': train_ids})\n",
    "    a_test = pd.DataFrame(data={'PATNO': test_ids})\n",
    "    return train_ids, test_ids, a_train, a_test\n",
    "\n",
    "def sainty_check(a_train, a_test, a):\n",
    "    assert train_ids.shape[0] + test_ids.shape[0]==423\n",
    "    train_PD = pd.merge(a, a_train, on='PATNO', how='inner')\n",
    "    test_PD = pd.merge(a, a_test, on='PATNO', how='inner')\n",
    "    assert train_PD.shape[0] + test_PD.shape[0]==423\n",
    "    \n",
    "    fig, axs = plt.subplots(1, 3, figsize=(15, 5))\n",
    "    sb.kdeplot(train_PD.MOTOR_TOT, color='r', label='Train MOT', ax=axs[0], shade=True, shade_lowest=False)\n",
    "    sb.kdeplot(test_PD.MOTOR_TOT, color = 'm', label = 'Test MOT', ax=axs[0], shade=True, shade_lowest=False)\n",
    "    sb.kdeplot(train_PD.NHY, color='r', label='Train NHY', ax=axs[1], shade=True, shade_lowest=False)\n",
    "    sb.kdeplot(test_PD.NHY, color = 'm', label = 'Test NHY', ax=axs[1], shade=True, shade_lowest=False)\n",
    "    sb.kdeplot(train_PD.STAI_TOT, color='r', label='Train STAI', ax=axs[2], shade=True, shade_lowest=False)\n",
    "    sb.kdeplot(test_PD.STAI_TOT, color = 'm', label = 'Test STAI', ax=axs[2], shade=True, shade_lowest=False)\n",
    "    \n",
    "    fig, axs = plt.subplots(1, 3, figsize=(15, 5))\n",
    "    sb.distplot(train_PD.Gender, color='r', label='Train GENDER', ax=axs[0], kde=False, norm_hist=True)\n",
    "    sb.distplot(test_PD.Gender, color = 'm', label = 'Test GENDER', ax=axs[0], kde=False, norm_hist=True)\n",
    "    sb.distplot(train_PD.DOMSIDE, color='r', label='Train DOMSIDE', ax=axs[1], kde=False, norm_hist=True)\n",
    "    sb.distplot(test_PD.DOMSIDE, color = 'm', label = 'Test DOMSIDE', ax=axs[1], kde=False, norm_hist=True)\n",
    "    sb.kdeplot(train_PD.SDMTOTAL, color='r', label='Train SDMT', ax=axs[2], shade=True, shade_lowest=False)\n",
    "    sb.kdeplot(test_PD.SDMTOTAL, color = 'm', label = 'Test SDMT', ax=axs[2], shade=True, shade_lowest=False)\n",
    "    \n",
    "    fig, axs = plt.subplots(1, 3, figsize=(15, 5))\n",
    "    sb.kdeplot(train_PD.PD_MED_USE, color='r', label='Train MED USE', ax=axs[0], shade=True, shade_lowest=False)\n",
    "    sb.kdeplot(test_PD.PD_MED_USE, color = 'm', label = 'Test MED USE', ax=axs[0], shade=True, shade_lowest=False)\n",
    "    sb.kdeplot(train_PD.SFT_TOT, color='r', label='Train SFT', ax=axs[1], shade=True, shade_lowest=False)\n",
    "    sb.kdeplot(test_PD.SFT_TOT, color = 'm', label = 'Test SFT', ax=axs[1], shade=True, shade_lowest=False)\n",
    "    sb.kdeplot(train_PD.UPSIT_TOT, color='r', label='Train UPSIT', ax=axs[2], shade=True, shade_lowest=False)\n",
    "    sb.kdeplot(test_PD.UPSIT_TOT, color = 'm', label = 'Test UPSIT', ax=axs[2], shade=True, shade_lowest=False)\n",
    "    return train_PD, test_PD"
   ]
  },
  {
   "cell_type": "markdown",
   "metadata": {},
   "source": [
    "Creates a stratified 80/20 split of the 423 PD patients. "
   ]
  },
  {
   "cell_type": "code",
   "execution_count": null,
   "metadata": {},
   "outputs": [],
   "source": [
    "path = ### PUT PATH TO DATA HERE ###"
   ]
  },
  {
   "cell_type": "code",
   "execution_count": null,
   "metadata": {},
   "outputs": [],
   "source": [
    "# import processed data from 'Full_Data_Processing.ipynb'\n",
    "pd_patients = pd.read_csv('pd_on.csv', index_col=0)"
   ]
  },
  {
   "cell_type": "code",
   "execution_count": null,
   "metadata": {},
   "outputs": [],
   "source": [
    "# merge data with demographic data, from 'Demographics_Data_Processing.ipynb'\n",
    "demo = pd.read_csv('demographics.csv')"
   ]
  },
  {
   "cell_type": "code",
   "execution_count": null,
   "metadata": {},
   "outputs": [],
   "source": [
    "pd_patients = pd_patients.merge(demo, how='left', on='PATNO')"
   ]
  },
  {
   "cell_type": "code",
   "execution_count": null,
   "metadata": {},
   "outputs": [],
   "source": [
    "# sanity check make sure we have 423 PD patients\n",
    "assert len(pd_patients.groupby(\"PATNO\")) == 423"
   ]
  },
  {
   "cell_type": "code",
   "execution_count": null,
   "metadata": {},
   "outputs": [],
   "source": [
    "# select motor only features\n",
    "pd_motor = pd_patients.iloc[:, 4:66]\n",
    "pd_motor = pd_motor.drop(columns=['PAG_NAME', 'CMEDTM', 'EXAMTM'])"
   ]
  },
  {
   "cell_type": "code",
   "execution_count": null,
   "metadata": {},
   "outputs": [],
   "source": [
    "# create data frame for stratifying\n",
    "df_strat = pd_patients[['PATNO', 'SDMTOTAL', 'NHY']]\n",
    "df_strat['MOTOR_TOT'] = pd_motor.sum(axis=1, skipna=False)\n",
    "df_strat['PD_MED_USE'] = pd_patients.PD_MED_USE\n",
    "df_strat['DOMSIDE'] = pd_patients.DOMSIDE.astype(float)\n",
    "df_strat['STAI_TOT'] = pd_patients.STAI_TOT\n",
    "df_strat['SFT_TOT'] = pd_patients.SFT_TOT\n",
    "df_strat['Gender'] = pd_patients.GENDER\n",
    "df_strat['UPSIT_TOT'] = pd_patients.UPSIT_TOT\n",
    "df_strat['INFODT'] = pd.to_datetime(pd_patients.INFODT)"
   ]
  },
  {
   "cell_type": "code",
   "execution_count": null,
   "metadata": {},
   "outputs": [],
   "source": [
    "# compute average scores per patient\n",
    "a = df_strat.groupby('PATNO').mean()\n",
    "a['PATNO'] = a.index"
   ]
  },
  {
   "cell_type": "code",
   "execution_count": null,
   "metadata": {
    "scrolled": false
   },
   "outputs": [],
   "source": [
    "strat_varaible = create_stratifying_varaible(a)\n",
    "train_ids, test_ids, a_train, a_test = gen_Stratified_split(a, strat_varaible)\n",
    "\n",
    "a.index.name=None\n",
    "_, _, = sainty_check(a_train, a_test, a)"
   ]
  },
  {
   "cell_type": "markdown",
   "metadata": {},
   "source": [
    "## Redo analysis with slopes rather than means representing patients (takes some temporality into effect)"
   ]
  },
  {
   "cell_type": "code",
   "execution_count": null,
   "metadata": {},
   "outputs": [],
   "source": [
    "def process(x):\n",
    "    \"Compute slopes of relevant quantities\"\n",
    "    gender = x.Gender.iloc[0]\n",
    "    dom_side = x.DOMSIDE.iloc[0]\n",
    "    tmax_id = x.INFODT.idxmax()\n",
    "    tmin_id = x.INFODT.idxmin() \n",
    "    tmax = x.INFODT.max()\n",
    "    tmin = x.INFODT.min()\n",
    "    tdiff_in_years = ((tmax - tmin).days/365)\n",
    "    processed_x = x.mean()\n",
    "    processed_x.MOTOR_TOT = ((x[x.index==tmax_id].MOTOR_TOT.values - x[x.index==tmin_id].MOTOR_TOT.values) / tdiff_in_years)[0]\n",
    "#     processed_x.SDMTOTAL = ((x[x.index==tmax_id].SDMTOTAL.values - x[x.index==tmin_id].SDMTOTAL.values) / tdiff_in_years)[0]\n",
    "#     processed_x.STAI_TOT = ((x[x.index==tmax_id].STAI_TOT.values - x[x.index==tmin_id].STAI_TOT.values) / tdiff_in_years)[0]\n",
    "#     processed_x.SFT_TOT = ((x[x.index==tmax_id].SFT_TOT.values - x[x.index==tmin_id].SFT_TOT.values) / tdiff_in_years)[0]\n",
    "    #UPSIT is only measured at baselin; so it's sloope doesn't make senes\n",
    "    processed_x.Gender = gender\n",
    "    processed_x.DOMSIDE = dom_side\n",
    "    return processed_x\n",
    "\n"
   ]
  },
  {
   "cell_type": "code",
   "execution_count": null,
   "metadata": {},
   "outputs": [],
   "source": [
    "# compute average scores per patient\n",
    "a = df_strat.groupby('PATNO').apply(process)\n",
    "a['PATNO'] = a.index"
   ]
  },
  {
   "cell_type": "code",
   "execution_count": null,
   "metadata": {
    "scrolled": false
   },
   "outputs": [],
   "source": [
    "strat_varaible = create_stratifying_varaible(a, nbins=5)\n",
    "train_ids, test_ids, a_train, a_test = gen_Stratified_split(a, strat_varaible)\n",
    "\n",
    "a.index.name=None\n",
    "train_PD, test_PD = sainty_check(a_train, a_test, a)"
   ]
  },
  {
   "cell_type": "code",
   "execution_count": null,
   "metadata": {},
   "outputs": [],
   "source": [
    "data_split = {}\n",
    "data_split['train_ids'] = train_ids\n",
    "data_split['test_ids'] = test_ids\n",
    "data_split['desc'] = 'An 80/20 split of the data based on Motor (changein motor), Dominant Side and Gender'"
   ]
  },
  {
   "cell_type": "code",
   "execution_count": null,
   "metadata": {},
   "outputs": [],
   "source": [
    "with open('train_test_split.pkl', 'wb') as handle:\n",
    "    pickle.dump(data_split, handle)"
   ]
  },
  {
   "cell_type": "code",
   "execution_count": null,
   "metadata": {},
   "outputs": [],
   "source": []
  }
 ],
 "metadata": {
  "anaconda-cloud": {},
  "kernelspec": {
   "display_name": "Python 3",
   "language": "python",
   "name": "python3"
  },
  "language_info": {
   "codemirror_mode": {
    "name": "ipython",
    "version": 3
   },
   "file_extension": ".py",
   "mimetype": "text/x-python",
   "name": "python",
   "nbconvert_exporter": "python",
   "pygments_lexer": "ipython3",
   "version": "3.6.4"
  }
 },
 "nbformat": 4,
 "nbformat_minor": 1
}
