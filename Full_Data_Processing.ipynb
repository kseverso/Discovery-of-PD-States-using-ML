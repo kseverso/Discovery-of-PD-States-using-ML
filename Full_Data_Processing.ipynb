{
 "cells": [
  {
   "cell_type": "markdown",
   "metadata": {},
   "source": [
    "Merge the motor and non-motor measures while also selecting only enrolled patients. Reconcile 'INFODT' errors using the signature form csv."
   ]
  },
  {
   "cell_type": "code",
   "execution_count": null,
   "metadata": {},
   "outputs": [],
   "source": [
    "import pandas as pd\n",
    "import numpy as np"
   ]
  },
  {
   "cell_type": "code",
   "execution_count": null,
   "metadata": {},
   "outputs": [],
   "source": [
    "path = ### PUT PATH TO DATA HERE ###"
   ]
  },
  {
   "cell_type": "code",
   "execution_count": null,
   "metadata": {},
   "outputs": [],
   "source": [
    "non_motor = pd.read_csv('non-motor.csv') #note that this is the processed data created by 'Non_Motor_Data_Processing.ipynb'\n",
    "motor = pd.read_csv('motor.csv') #note that this is the processed data created by 'Motor_Data_Processing.ipynb'\n",
    "demographics = pd.read_csv('demographics.csv') #note that this is the processed data created by 'Demographics_Data_Processing.ipynb'"
   ]
  },
  {
   "cell_type": "code",
   "execution_count": null,
   "metadata": {},
   "outputs": [],
   "source": [
    "motor.head()"
   ]
  },
  {
   "cell_type": "code",
   "execution_count": null,
   "metadata": {},
   "outputs": [],
   "source": [
    "pd_ids = demographics[(~demographics.ENROLLDT.isnull()) & (demographics.APPRDX==1.0)].PATNO #PD cohort\n",
    "hc_ids = demographics[(~demographics.ENROLLDT.isnull()) & (demographics.APPRDX==2.0)].PATNO #HC cohort"
   ]
  },
  {
   "cell_type": "code",
   "execution_count": null,
   "metadata": {},
   "outputs": [],
   "source": [
    "print(len(pd_ids), len(hc_ids))"
   ]
  },
  {
   "cell_type": "code",
   "execution_count": null,
   "metadata": {},
   "outputs": [],
   "source": [
    "df = motor.merge(non_motor, how='outer', on=['PATNO','EVENT_ID','INFODT'])"
   ]
  },
  {
   "cell_type": "code",
   "execution_count": null,
   "metadata": {},
   "outputs": [],
   "source": [
    "df.head()"
   ]
  },
  {
   "cell_type": "code",
   "execution_count": null,
   "metadata": {},
   "outputs": [],
   "source": [
    "df = df[(df.PATNO.isin(pd_ids)) | (df.PATNO.isin(hc_ids))]"
   ]
  },
  {
   "cell_type": "code",
   "execution_count": null,
   "metadata": {},
   "outputs": [],
   "source": [
    "# create a data frame taking only the on measurements when paired testing was performed\n",
    "pd_on = pd.DataFrame(columns = df.columns)"
   ]
  },
  {
   "cell_type": "code",
   "execution_count": null,
   "metadata": {},
   "outputs": [],
   "source": [
    "reconcile_pn = []\n",
    "reconcile_ei = []\n",
    "for pn in pd_ids:\n",
    "    for ei in df[df.PATNO==pn].EVENT_ID.unique():\n",
    "        rec = df[(df.PATNO==pn) & (df.EVENT_ID==ei)]\n",
    "        if len(rec) > 1:\n",
    "            if (rec.PAG_NAME != 'NUPDRS3A').all():\n",
    "                print(pn, ei)\n",
    "                reconcile_pn.append(pn)\n",
    "                reconcile_ei.append(ei)\n",
    "            else:\n",
    "                on_rec = df[(df.PATNO==pn) & (df.EVENT_ID==ei) & (df.PAG_NAME=='NUPDRS3A')]\n",
    "                pd_on = pd_on.append(on_rec,ignore_index=True)\n",
    "        else:\n",
    "            pd_on = pd_on.append(rec,ignore_index=True)"
   ]
  },
  {
   "cell_type": "code",
   "execution_count": null,
   "metadata": {},
   "outputs": [],
   "source": [
    "df_sig=pd.read_csv(path + \"Signature_Form.csv\")"
   ]
  },
  {
   "cell_type": "code",
   "execution_count": null,
   "metadata": {},
   "outputs": [],
   "source": [
    "interest_cols = [\n",
    "'NP1COG',\n",
    "'NP1HALL',\n",
    "'NP1DPRS',\n",
    "'NP1ANXS',\n",
    "'NP1APAT',\n",
    "'NP1DDS',\n",
    "'NP1SLPN',\n",
    "'NP1SLPD',\n",
    "'NP1PAIN',\n",
    "'NP1URIN',\n",
    "'NP1CNST',\n",
    "'NP1LTHD',\n",
    "'NP1FATG',\n",
    "'NP2SPCH',\n",
    "'NP2SALV',\n",
    "'NP2SWAL',\n",
    "'NP2EAT',\n",
    "'NP2DRES',\n",
    "'NP2HYGN',\n",
    "'NP2HWRT',\n",
    "'NP2HOBB',\n",
    "'NP2TURN',\n",
    "'NP2TRMR',\n",
    "'NP2RISE',\n",
    "'NP2WALK',\n",
    "'NP2FREZ',\n",
    "'MSEADLG',\n",
    "'PAG_NAME',\n",
    "'DYSKPRES',\n",
    "'DYSKIRAT',\n",
    "'NHY',\n",
    "'ON_OFF_DOSE',\n",
    "'PD_MED_USE',\n",
    "'NP3SPCH',\n",
    "'NP3FACXP',\n",
    "'NP3RIGN',\n",
    "'NP3RIGRU',\n",
    "'NP3RIGLU',\n",
    "'PN3RIGRL',\n",
    "'NP3RIGLL',\n",
    "'NP3FTAPR',\n",
    "'NP3FTAPL',\n",
    "'NP3HMOVR',\n",
    "'NP3HMOVL',\n",
    "'NP3PRSPR',\n",
    "'NP3PRSPL',\n",
    "'NP3TTAPR',\n",
    "'NP3TTAPL',\n",
    "'NP3LGAGR',\n",
    "'NP3LGAGL',\n",
    "'NP3RISNG',\n",
    "'NP3GAIT',\n",
    "'NP3FRZGT',\n",
    "'NP3PSTBL',\n",
    "'NP3POSTR',\n",
    "'NP3BRADY',\n",
    "'NP3PTRMR',\n",
    "'NP3PTRML',\n",
    "'NP3KTRMR',\n",
    "'NP3KTRML',\n",
    "'NP3RTARU',\n",
    "'NP3RTALU',\n",
    "'NP3RTARL',\n",
    "'NP3RTALL',\n",
    "'NP3RTALJ',\n",
    "'NP3RTCON',\n",
    "'SDMTOTAL',\n",
    "'STAI_TOT',\n",
    "'SFT_TOT',\n",
    "'SCOPA_AUT_TOT',\n",
    "'REMSLEEP_TOT',\n",
    "'QUIP_A',\n",
    "'QUIP_B',\n",
    "'QUIP_C',\n",
    "'QUIP_D',\n",
    "'QUIP_E',\n",
    "'UPSIT_TOT',\n",
    "'MoCA_score',\n",
    "'LNS_TOT',\n",
    "'HVLT_TOT_Recall',\n",
    "'HVLT_DCR_REC',\n",
    "'HVLT_RETENTION',\n",
    "'GDS_TOT',\n",
    "'GDS_Depressed',\n",
    "'ESS_TOT',\n",
    "'ESS_Sleepy',\n",
    "'BJLOT_TOT',\n",
    "'CAUDATE_R',\n",
    "'CAUDATE_L',\n",
    "'PUTAMEN_R',\n",
    "'PUTAMEN_L']\n",
    "\n",
    "def process_multi_rows(pat, visit, df):\n",
    "    print(\"Working on\",pat,visit)\n",
    "    if len(df)<=1: \n",
    "        print(\"Length of selection for \",pat,visit,\" is \",len(df))\n",
    "        return df\n",
    "    # print(\"Length of current frame is:\",len(cur_frame))\n",
    "    res_row=df.iloc[0]\n",
    "    info_dt = df_sig[(df_sig['PATNO']==pat) & (df_sig['EVENT_ID']==visit)]['INFODT'].values[0]\n",
    "    res_row['INFODT'] = pd.to_datetime(info_dt, format='%m/%Y')\n",
    "    res_row['INFODT'] = res_row['INFODT'].strftime('%m/%Y')\n",
    "\n",
    "    for col in interest_cols:\n",
    "            cur_col=df[col]\n",
    "            for i in cur_col:\n",
    "                if isinstance(i,str) or not np.isnan(i):\n",
    "                    res_row[col]=i\n",
    "                    break\n",
    "    df = df.drop(df[(df['PATNO']==pat) & (df['EVENT_ID']==visit)].index)\n",
    "    df = df.append(res_row)\n",
    "    return df"
   ]
  },
  {
   "cell_type": "code",
   "execution_count": null,
   "metadata": {},
   "outputs": [],
   "source": [
    "for i in range(len(reconcile_pn)):\n",
    "    rec = df[(df.PATNO==reconcile_pn[i]) & (df.EVENT_ID==reconcile_ei[i])]\n",
    "    test = process_multi_rows(reconcile_pn[i], reconcile_ei[i], rec)\n",
    "    pd_on = pd_on.append(test, ignore_index=True)"
   ]
  },
  {
   "cell_type": "code",
   "execution_count": null,
   "metadata": {},
   "outputs": [],
   "source": [
    "#create a dataframe of only healthy controls\n",
    "hc = pd.DataFrame(columns = df.columns)"
   ]
  },
  {
   "cell_type": "code",
   "execution_count": null,
   "metadata": {},
   "outputs": [],
   "source": [
    "reconcile_pn = []\n",
    "reconcile_ei = []\n",
    "for pn in hc_ids:\n",
    "    for ei in df[df.PATNO==pn].EVENT_ID.unique():\n",
    "        rec = df[(df.PATNO==pn) & (df.EVENT_ID==ei)]\n",
    "        if len(rec) > 1:\n",
    "            print(pn, ei)\n",
    "            reconcile_pn.append(pn)\n",
    "            reconcile_ei.append(ei)\n",
    "        else:\n",
    "            hc = hc.append(rec,ignore_index=True)"
   ]
  },
  {
   "cell_type": "code",
   "execution_count": null,
   "metadata": {},
   "outputs": [],
   "source": [
    "for i in range(len(reconcile_pn)):\n",
    "    rec = df[(df.PATNO==reconcile_pn[i]) & (df.EVENT_ID==reconcile_ei[i])]\n",
    "    test = process_multi_rows(reconcile_pn[i], reconcile_ei[i], rec)\n",
    "    hc = hc.append(test, ignore_index=True)"
   ]
  },
  {
   "cell_type": "code",
   "execution_count": null,
   "metadata": {},
   "outputs": [],
   "source": [
    "hc = hc.drop(index=hc[hc.EVENT_ID=='U01'].index)"
   ]
  },
  {
   "cell_type": "code",
   "execution_count": null,
   "metadata": {},
   "outputs": [],
   "source": [
    "pd_on = pd_on.drop(index=pd_on[pd_on.INFODT.isnull()].index)"
   ]
  },
  {
   "cell_type": "code",
   "execution_count": null,
   "metadata": {},
   "outputs": [],
   "source": [
    "pd_on.to_csv('pd_on.csv')\n",
    "hc.to_csv('hc.csv')"
   ]
  },
  {
   "cell_type": "code",
   "execution_count": null,
   "metadata": {},
   "outputs": [],
   "source": []
  }
 ],
 "metadata": {
  "kernelspec": {
   "display_name": "Python 3",
   "language": "python",
   "name": "python3"
  },
  "language_info": {
   "codemirror_mode": {
    "name": "ipython",
    "version": 3
   },
   "file_extension": ".py",
   "mimetype": "text/x-python",
   "name": "python",
   "nbconvert_exporter": "python",
   "pygments_lexer": "ipython3",
   "version": "3.6.4"
  }
 },
 "nbformat": 4,
 "nbformat_minor": 2
}
